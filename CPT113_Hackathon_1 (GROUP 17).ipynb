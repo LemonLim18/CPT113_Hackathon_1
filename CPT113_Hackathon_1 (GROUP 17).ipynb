{
  "nbformat": 4,
  "nbformat_minor": 0,
  "metadata": {
    "colab": {
      "provenance": []
    },
    "kernelspec": {
      "name": "python3",
      "display_name": "Python 3"
    },
    "language_info": {
      "name": "python"
    }
  },
  "cells": [
    {
      "cell_type": "markdown",
      "source": [
        "Note: The following code snippet will ensure all of your program files will be stored on your own Google Drive. Use Ctrl+F9 when running your program to ensure that this is also executed each time."
      ],
      "metadata": {
        "id": "uG2iEAbD91HF"
      }
    },
    {
      "cell_type": "code",
      "source": [
        "from google.colab import drive\n",
        "drive.mount('/content/drive/')"
      ],
      "metadata": {
        "id": "WWTwOvBLAgYN",
        "colab": {
          "base_uri": "https://localhost:8080/"
        },
        "outputId": "fdd58ae3-2e41-4f56-cedf-4bc0c167316d"
      },
      "execution_count": null,
      "outputs": [
        {
          "output_type": "stream",
          "name": "stdout",
          "text": [
            "Drive already mounted at /content/drive/; to attempt to forcibly remount, call drive.mount(\"/content/drive/\", force_remount=True).\n"
          ]
        }
      ]
    },
    {
      "cell_type": "markdown",
      "source": [
        "# Hackathon Group 17\n",
        "\n",
        "#Members:\n",
        "> Lim Yong Jun \\\\\n",
        "> Lim Miin Ning \\\\\n",
        "> Teoh Kai Lun \\\\\n",
        "\n",
        "\n",
        "---\n",
        "\n",
        "\n",
        "#Project Title: Kitchen King\n",
        "\n",
        "##Project Specification:\n",
        "Kitchen King is a comprehensive restaurant management program that provides exceptional support to local restaurants, especially those that are newly established and may not have a proper management system in place. In recent years, the food and beverage industry in Malaysia has been growing rapidly, with Malaysians constantly demanding high-quality food and service. As such, it is crucial for restaurants to keep up with this demand by implementing a suitable restaurant management system to remain competitive in the industry. \n",
        "\n",
        "The Kitchen King program is specifically designed to alleviate the burden of operating a mid-range restaurant and offer valuable assistance to simplify the process for operators. With Kitchen King's wide range of features, including menu management, table management, order processing, inventory management, employee management, and reporting. Restaurants can streamline their operations and improve their efficiency, providing a better experience for their customers.\n",
        "\n",
        "To ensure that users of the Kitchen King program have a full understanding of its features and capabilities, we will provide detailed documentation within the code itself. This documentation will explain how the program works, the various services it offers, and the algorithms used to benefit both customers and employees. We will also conduct thorough testing to identify any limitations and challenges in the program, and provide clear descriptions of how to work around them. Our goal with this documentation is to provide a working program that not only functions properly but also offers a comprehensive understanding of its inner workings. Ultimately, our aim is to provide a high-quality restaurant management service that meets the needs of the industry, and we believe that this documentation is a crucial step in achieving that goal."
      ],
      "metadata": {
        "id": "J9cNO1Lzc0Ig"
      }
    },
    {
      "cell_type": "markdown",
      "source": [
        "##Problem Analysis"
      ],
      "metadata": {
        "id": "vsD0DoenNsah"
      }
    },
    {
      "cell_type": "markdown",
      "source": [
        "Describe the requirements of your program and relate it to how you solve the given problem.\n",
        "\n",
        "**Problems:**\n",
        "- Not having a flexible menu (modifidable)\n",
        "- Handling with staff's info\n",
        "- Checking numbers and availability of tables \n",
        "- Handling customer's reservation and orders\n",
        "- Restaurant's daily report\n",
        "-------------------------------------------------------------------------\n",
        "\n",
        "\n",
        "**Solution:**\n",
        "\n",
        "*Menu Management*\n",
        "- Function: Read menu details input from a text file, add and delete food in the menu, adjust food price, print the menu\n",
        "\n",
        "*Staff Management*\n",
        "- Function: Read staff's info input from a text file, add and delete staff, print the staff list\n",
        "\n",
        "*Table Management*\n",
        "- Function: Read input of table's number, capacity and availability from a text file, add and delete table, check for number of tables available, print the table details\n",
        "\n",
        "*Customer Management*\n",
        "- Function: Receive inputs of customer's name, phone number, number of tables reserved and orders, display availability for reservation and total payment\n",
        "\n",
        "*Reporting*\n",
        "- Function: Output the daily sales\n",
        "\n",
        "\n",
        "\n"
      ],
      "metadata": {
        "id": "1MFfWDz2Dn-X"
      }
    },
    {
      "cell_type": "markdown",
      "source": [
        "#Programming Design & Solution"
      ],
      "metadata": {
        "id": "JiIxF9NzPZpM"
      }
    },
    {
      "cell_type": "markdown",
      "source": [
        "The __menu text file__ consists of food's name and its price."
      ],
      "metadata": {
        "id": "bZjXvc09j2wH"
      }
    },
    {
      "cell_type": "code",
      "source": [
        "%%writefile Menu.txt\n",
        "Omellete 5.0\n",
        "Sandwich  7.0\n",
        "Fried_Rice  6.5\n",
        "Tomato_Soup  12.0\n",
        "Pepsi_Soda 3.5"
      ],
      "metadata": {
        "id": "UFvdZ5aMPsOl",
        "colab": {
          "base_uri": "https://localhost:8080/"
        },
        "outputId": "a3fa4d48-4636-45be-de70-840093695e5e"
      },
      "execution_count": null,
      "outputs": [
        {
          "output_type": "stream",
          "name": "stdout",
          "text": [
            "Overwriting Menu.txt\n"
          ]
        }
      ]
    },
    {
      "cell_type": "markdown",
      "source": [
        "The __Staff text file__ consists of staff's name, position and salary."
      ],
      "metadata": {
        "id": "fxw1AztVkIhD"
      }
    },
    {
      "cell_type": "code",
      "source": [
        "%%writefile Staff.txt\n",
        "Alex\tChef\t4000\n",
        "Adam\tKitchen_helper\t3000\n",
        "John\tKitchen_helper\t3000\n",
        "Lily\tWaiter\t2500\n",
        "Michael\tWaiter\t2500"
      ],
      "metadata": {
        "colab": {
          "base_uri": "https://localhost:8080/"
        },
        "id": "Lu62jPDqFsXf",
        "outputId": "1583d8a1-8cfe-4bb6-da3a-ccd6b2327eb8"
      },
      "execution_count": null,
      "outputs": [
        {
          "output_type": "stream",
          "name": "stdout",
          "text": [
            "Overwriting Staff.txt\n"
          ]
        }
      ]
    },
    {
      "cell_type": "markdown",
      "source": [
        "The __Table text file__ consists of table's number, capacity and availability ( `1` for available and `0` for not available)."
      ],
      "metadata": {
        "id": "Vsk7pOTBkSTb"
      }
    },
    {
      "cell_type": "code",
      "source": [
        "%%writefile Table.txt\n",
        "1 1 1\n",
        "2 1 1\n",
        "3 1 1\n",
        "4 2 1\n",
        "5 2 1\n",
        "6 2 1\n",
        "7 5 1\n",
        "8 5 1\n",
        "9 10 1\n",
        "10 10 1"
      ],
      "metadata": {
        "colab": {
          "base_uri": "https://localhost:8080/"
        },
        "id": "kNKF-AwMYZsR",
        "outputId": "a298a7a0-9419-45bc-c76e-f71f7763f9f1"
      },
      "execution_count": null,
      "outputs": [
        {
          "output_type": "stream",
          "name": "stdout",
          "text": [
            "Overwriting Table.txt\n"
          ]
        }
      ]
    },
    {
      "cell_type": "code",
      "source": [
        "%%writefile MENU.h\n",
        "//Menu header file\n",
        "#ifndef MENU_H\n",
        "#define MENU_H\n",
        "\n",
        "#include <iostream>\n",
        "using namespace std;\n",
        "\n",
        "class MenuItem\t\t\t\t//class MenuItem \n",
        "{ \n",
        "\tprivate:\n",
        "\t\tstring name;      //name of food\n",
        "\t\tdouble price;\t\t\t//food price\n",
        "\tpublic:\n",
        "\t\tMenuItem();\t\t\t\t//constructor\n",
        "\t\tMenuItem(string, double);\t\t//overloading constructor\n",
        "\t\tvoid setName(string);\t\t\t\t//set food name\n",
        "\t\tvoid setPrice(double);\t\t\t//set food price\n",
        "\t\tstring getName();\t\t\t\t\t\t//get food name\n",
        "\t\tdouble getPrice();\t\t\t\t\t//get food price\n",
        "};\n",
        "\n",
        "class Menu: public MenuItem\t\t\t//class Menu is derived from class Menuitem \n",
        "{\n",
        "\tprivate:\n",
        "\t\tint itemCount;\t\t\t\t\t\t\t\t\t\t\t\n",
        "\t\tstatic const int MAX_ITEMS = 10;\t\t//set maximum types of food the menu can hold to 10\n",
        "\t\tMenuItem items[MAX_ITEMS];\t\t\t\t\t//create an array for menu items\n",
        "\tpublic:\n",
        "\t\tMenu();\t\t\t\t\t\t\t\t\t\t\t\t\t\t\t//default constructor\n",
        "  \tvoid addMenuItem(MenuItem);\t\t\t\t\t//add type of food into menu\n",
        "  \tvoid removeMenuItem(int);\t\t\t\t\t\t//remove type of food from menu\t\t\t\t\n",
        "  \tvoid adjustPrice(int, double);\t\t\t//price price for food in menu\n",
        "  \tvoid printMenu();\t\t\t\t\t\t\t\t\t\t//print the food name and price of food in the menu\n",
        "};\n",
        "\n",
        "#endif"
      ],
      "metadata": {
        "colab": {
          "base_uri": "https://localhost:8080/"
        },
        "id": "wccrFwwlsMSp",
        "outputId": "a1397fe8-ad9d-46eb-c596-520709c4f244"
      },
      "execution_count": null,
      "outputs": [
        {
          "output_type": "stream",
          "name": "stdout",
          "text": [
            "Overwriting MENU.h\n"
          ]
        }
      ]
    },
    {
      "cell_type": "code",
      "source": [
        "%%writefile Menu.cpp\n",
        "\n",
        "#include <iostream>\n",
        "#include <iomanip>\n",
        "#include \"MENU.h\"\n",
        "\n",
        "using namespace std;\n",
        "\n",
        "\n",
        "MenuItem::MenuItem()      //default constructor\n",
        "{\n",
        "  name = \"\";\n",
        "  price = 0.0;\n",
        "}\n",
        "\n",
        "MenuItem::MenuItem(string name, double price)    //overloading constructor\n",
        "{\n",
        "  this->name = name;\n",
        "  this->price = price;\n",
        "}\n",
        "\n",
        "void MenuItem::setName(string name)     //set food name\n",
        "{\n",
        "  this->name = name;\n",
        "}\n",
        "\n",
        "void MenuItem::setPrice(double price)     //set food price\n",
        "{\n",
        "  this->price = price;\n",
        "}\n",
        "\n",
        "string MenuItem::getName()    //get food name\n",
        "{\n",
        "  return name;\n",
        "}\n",
        "\n",
        "double MenuItem::getPrice()     //get food price\n",
        "{\n",
        "  return price;\n",
        "}\n",
        "\n",
        "Menu::Menu()    //default constructor\n",
        "{\n",
        "  itemCount = 0;\n",
        "}\n",
        "\n",
        "void Menu::addMenuItem(MenuItem item)     //add type of food into menu\n",
        "{\n",
        "  if (itemCount < MAX_ITEMS) \n",
        "  {\n",
        "    items[itemCount] = item;\n",
        "    itemCount++;\n",
        "  }\n",
        "  else \n",
        "  {\n",
        "    cout << \"Cannot add item. Maximum menu items reached.\" << endl;    //when there are 10 types of food in the menu\n",
        "  }\n",
        "}\n",
        "\n",
        "void Menu::removeMenuItem(int index)    //remove type of food from the menu\n",
        "{\n",
        "  if (index >= 0 && index < itemCount)    \n",
        "  {\n",
        "    for (int i = index; i < itemCount - 1; i++)   \n",
        "\t  {\n",
        "      items[i] = items[i+1];    //so that the index in the menu still follow the sequence after removing a type of food from the menu\n",
        "      itemCount--;  \n",
        "    }\n",
        "  }\n",
        "  else \n",
        "  {\n",
        "    cout << \"Invalid index. Cannot remove item.\" << endl;\n",
        "  }\n",
        "}\n",
        "\n",
        "void Menu::adjustPrice(int index, double newPrice)  //change the food price in the menu\n",
        "{\n",
        "  if (index >= 0 && index < itemCount) \n",
        "  {\n",
        "    items[index].setPrice(newPrice);\n",
        "  }\n",
        "  else \n",
        "  {\n",
        "    cout << \"Invalid index. Cannot adjust price.\" << endl;\n",
        "  }\n",
        "}\n",
        "\n",
        "void Menu::printMenu()    //print the food name and food price in the menu\n",
        "{\n",
        "  cout << \"Menu:\" << endl;\n",
        "  for (int i = 0; i < itemCount; i++) \n",
        "  {\n",
        "    cout << i+1 << \". \" << left << setw(15) << items[i].getName() << \" RM \" \n",
        "    << fixed << setprecision(2)  << items[i].getPrice() << endl;\n",
        "  }\n",
        "}\n"
      ],
      "metadata": {
        "colab": {
          "base_uri": "https://localhost:8080/"
        },
        "id": "mdfH2kYBsRLz",
        "outputId": "1f75a724-2731-40a4-e9ed-e20c5ae1d088"
      },
      "execution_count": null,
      "outputs": [
        {
          "output_type": "stream",
          "name": "stdout",
          "text": [
            "Overwriting Menu.cpp\n"
          ]
        }
      ]
    },
    {
      "cell_type": "code",
      "source": [
        "%%writefile STAFF.h\n",
        "\n",
        "#ifndef STAFF_H\n",
        "#define STAFF_H\n",
        "\n",
        "#include <iostream>\n",
        "using namespace std;\n",
        "\n",
        "class Staff \n",
        "{\n",
        "\tprivate:\n",
        "\t\tstring name;\t\t\t//name of the staff\n",
        "\t\tstring position;\t//position of the staff\n",
        "\t\tdouble salary;\t\t//salary of the staff\n",
        "\t\t\n",
        "\tpublic:\n",
        "\t\tStaff();\t\t\t\t\t\t\t\t\t\t\t\t\t//default constructor\n",
        "\t\tStaff(string, string, double);\t\t//overloading constructor\n",
        "\t\tvoid setName(string);\t\t\t\t\t\t\t//set the name of the staff\n",
        "\t\tvoid setPosition(string);\t\t\t\t\t//set the position of the staff\n",
        "\t\tvoid setSalary(double);\t\t\t\t\t\t//set the salary of the staff\n",
        "\t\tstring getName();\t\t\t\t\t\t\t\t\t//get the name of the staff\n",
        "\t\tstring getPosition();\t\t\t\t\t\t\t//get the position of the staff\n",
        "\t\tdouble getSalary();\t\t\t\t\t\t\t\t//get the salary of the staff\n",
        "};\n",
        "\n",
        "class StaffManagement: public Staff\t\t\t//class StaffManagement is derived from class Staff\n",
        "{\n",
        "\tprivate:\n",
        "\t\tstatic const int MAX_STAFF = 100;\t\t//set maximum number of staff to 100\n",
        "\t\tStaff staffList[MAX_STAFF];\t\t\t\t\t//create an array for the staff list\n",
        "\t\tint staffCount;\t\t\t\t\t\t\t\t\t\t\t\n",
        "\tpublic:\n",
        "\t\tStaffManagement();\t\t\t\t\t\t\t\t\t//default constructor\n",
        "\t\tvoid addStaff(Staff);\t\t\t\t\t\t\t\t//add a new staff into the staff list\n",
        "\t\tvoid removeStaff(int);\t\t\t\t\t\t\t//remove a staff from the staff list\n",
        "\t\tvoid adjustSalary(int, double);\t\t\t//change the salary of the staff in the staff list\n",
        "\t\tvoid printStaffList();\t\t\t\t\t\t\t//print the staff list which consists of the staff name, position and salary\n",
        "};\n",
        "\n",
        "#endif"
      ],
      "metadata": {
        "colab": {
          "base_uri": "https://localhost:8080/"
        },
        "id": "_zkhhtnSsdqq",
        "outputId": "c185dc2d-1c25-4f64-f6aa-b4e32294b07e"
      },
      "execution_count": null,
      "outputs": [
        {
          "output_type": "stream",
          "name": "stdout",
          "text": [
            "Overwriting STAFF.h\n"
          ]
        }
      ]
    },
    {
      "cell_type": "code",
      "source": [
        "%%writefile Staff.cpp\n",
        "\n",
        "#include <iostream>\n",
        "#include <string>\n",
        "#include <iomanip>\n",
        "#include \"STAFF.h\"\n",
        "\n",
        "using namespace std;\n",
        "\n",
        "Staff::Staff()      //default constructor\n",
        "{\n",
        "\tname = \"\";\n",
        "\tposition = \"\";\n",
        "\tsalary = 0.0;\n",
        "}\n",
        "\n",
        "Staff::Staff(string name, string position, double salary)   //overloading constructor\n",
        "{\n",
        "\tthis->name  = name;\n",
        "\tthis->position = position;\n",
        "\tthis->salary = salary;\n",
        "}\n",
        "\n",
        "void Staff::setName(string name)      //set name of the staff\n",
        "{\n",
        "\tthis->name  = name;\n",
        "}\n",
        "\n",
        "void Staff::setPosition(string position)    //set position of the staff\n",
        "{\n",
        "\tthis->position  = position;\n",
        "}\n",
        "\n",
        "void Staff::setSalary(double salary)      //set salary of the staff\n",
        "{\n",
        "\tthis->salary  = salary;\n",
        "}\n",
        "\n",
        "string Staff::getName()     //get name of the staff\n",
        "{\n",
        "\treturn name;\n",
        "}\n",
        "\n",
        "string Staff::getPosition()     //get position of the staff\n",
        "{\n",
        "\treturn position;\n",
        "}\n",
        "\n",
        "double Staff::getSalary()     //get salary of the staff\n",
        "{\n",
        "\treturn salary;\n",
        "}\n",
        "\n",
        "StaffManagement::StaffManagement()      //default constructor\n",
        "{\n",
        "\tstaffCount = 0;\n",
        "}\n",
        "\n",
        "void StaffManagement::addStaff(Staff staff)     //add a new staff into the staff list\n",
        "{\n",
        "  if (staffCount < MAX_STAFF) \n",
        "  {\n",
        "    staffList[staffCount] = staff;\n",
        "    staffCount++;\n",
        "  }\n",
        "  else \n",
        "  {\n",
        "    cout << \"Cannot add staff. Maximum staff reached.\" << endl;     //when number of staffs is already 100\n",
        "  }\n",
        "}\n",
        "\n",
        "void StaffManagement::removeStaff(int index)      //remove a staff from the staff list\n",
        "{\n",
        "  if (index >= 0 && index < staffCount)     \n",
        "  {\n",
        "    for (int i = index; i < staffCount - 1; i++) \n",
        "\t{\n",
        "      staffList[i] = staffList[i+1];      //so that the index of the staff list follows the sequence after removing a staff from the staff list\n",
        "    }\n",
        "    staffCount--;\n",
        "  }\n",
        "  else \n",
        "  {\n",
        "    cout << \"Invalid index. Cannot remove staff.\" << endl;\n",
        "  }\n",
        "}\n",
        "\n",
        "void StaffManagement::adjustSalary(int index, double newSalary)     //change the salary of a staff in the staff list\n",
        "{\n",
        "  if (index >= 0 && index < staffCount) \n",
        "  {\n",
        "    staffList[index].setSalary(newSalary);\n",
        "  }\n",
        "  else \n",
        "  {\n",
        "    cout << \"Invalid index. Cannot adjust salary.\" << endl;\n",
        "  }\n",
        "}\n",
        "\n",
        "void StaffManagement::printStaffList()      //print the staff list which consists of the staff name, position and salary\n",
        "{\n",
        "  cout << \"Staff List:\" << endl;\n",
        "  for (int i = 0; i < staffCount; i++) \n",
        "  {\n",
        "    cout << i+1 << \". \" << left << setw(8) << staffList[i].getName() << \" - \" \n",
        "    << left << setw(15) << staffList[i].getPosition() << \" Salary : RM \" \n",
        "    << fixed << setprecision(2)  << staffList[i].getSalary() << endl;\n",
        "  }\n",
        "}\n"
      ],
      "metadata": {
        "colab": {
          "base_uri": "https://localhost:8080/"
        },
        "id": "7F8R7CB1vRh-",
        "outputId": "ab7c56cc-d09b-4067-ace8-bc846726c42f"
      },
      "execution_count": null,
      "outputs": [
        {
          "output_type": "stream",
          "name": "stdout",
          "text": [
            "Overwriting Staff.cpp\n"
          ]
        }
      ]
    },
    {
      "cell_type": "code",
      "source": [
        "%%writefile TABLE.h\n",
        "\n",
        "#ifndef TABLE_H\n",
        "#define TABLE_H\n",
        "\n",
        "#include <iostream>\n",
        "using namespace std;\n",
        "\n",
        "class Table \n",
        "{\n",
        "\tprivate:\n",
        "\t\tint tableNumber;\t\t//the number of the table (table1, table2, table3, etc.)\n",
        "\t\tint capacity;\t\t\t\t//the capacity of the table\n",
        "\t\tbool available;\t\t\t//the availability of the table \n",
        "\tpublic:\n",
        "\t\tTable();\t\t\t\t\t\t//default constructor\n",
        "\t\tTable(int, int);\t\t//overloading constructor \n",
        "\t\tvoid setTableNumber(int);\t\t//set the number of the table\n",
        "\t\tvoid setCapacity(int);\t\t\t//set the capacity of the table\n",
        "\t\tvoid setAvailable(bool);\t\t//set the availability of the table\n",
        "\t\tint getTableNumber();\t\t\t\t//get the number of the table \n",
        "\t\tint getCapacity();\t\t\t\t\t//get the capacity of the table\n",
        "\t\tbool getAvailable();\t\t\t\t//get the availability of the table\n",
        "};\n",
        "\n",
        "class TableManagement: public Table\t\t\t//class TableManagement is derived from class Table\n",
        "{\n",
        "\tprivate:\n",
        "\t\tstatic const int MAX_TABLES = 10;\t\t//set the total number of tables to 10\n",
        "\t\tTable tables[MAX_TABLES];\t\t\t\t\t\t//create an array for the tables\n",
        "\t\tint tableCount;\t\t\t\t\t\t\t\t\t\t\t\n",
        "\t\tint availableCount;\t\t\t\t\t\t\t\t\t//total number of available tables\n",
        "\tpublic:\n",
        "\t\tTableManagement();\t\t\t//default constructor\n",
        "\t\tvoid addTable(Table);\t\t//add a table \n",
        "\t\tvoid removeTable(int);\t//remove a table \n",
        "\t\tvoid printTableList();\t//print the list of table consists of the table number, capacity and availability\n",
        "};\n",
        "#endif"
      ],
      "metadata": {
        "colab": {
          "base_uri": "https://localhost:8080/"
        },
        "id": "v8M9VgkatKZR",
        "outputId": "e0c377a2-e5b3-445e-c36f-6c196316eaf5"
      },
      "execution_count": null,
      "outputs": [
        {
          "output_type": "stream",
          "name": "stdout",
          "text": [
            "Overwriting TABLE.h\n"
          ]
        }
      ]
    },
    {
      "cell_type": "code",
      "source": [
        "%%writefile Table.cpp\n",
        "\n",
        "#include <iostream>\n",
        "#include \"TABLE.h\"\n",
        "\n",
        "using namespace std;\n",
        "\n",
        "Table::Table()      //default constructor\n",
        "{\n",
        "\ttableNumber = 0;\n",
        "\tcapacity = 0;\n",
        "\tavailable = false;\n",
        "}\n",
        "\n",
        "Table::Table(int tableNumber, int capacity)   //overloading constructor\n",
        "{\n",
        "\tthis->tableNumber  = tableNumber;\n",
        "\tthis->capacity = capacity;\n",
        "}\n",
        "\n",
        "void Table::setTableNumber(int tableNumber)   //set the table number\n",
        "{\n",
        "\tthis->tableNumber  = tableNumber;\n",
        "}\n",
        "\n",
        "void Table::setCapacity(int capacity)   //set the table capacity\n",
        "{\n",
        "\tthis->capacity = capacity;\n",
        "}\n",
        "\n",
        "void Table::setAvailable(bool available)     //set the availability of the table\n",
        "{\n",
        "\tthis->available = available;\n",
        "}\n",
        "\n",
        "int Table::getTableNumber()     //get the table number\n",
        "{\n",
        "\treturn tableNumber;\n",
        "}\n",
        "\n",
        "int Table::getCapacity()    //get the table capacity \n",
        "{\n",
        "\treturn capacity;\n",
        "}\n",
        "\n",
        "bool Table::getAvailable()    //get the table availability\n",
        "{\n",
        "\treturn available;\n",
        "}\n",
        "\n",
        "TableManagement::TableManagement()    //default constructor\n",
        "{\n",
        "\ttableCount = 0;\n",
        "  availableCount = 0;\n",
        "}\n",
        "\n",
        "void TableManagement::addTable(Table table)     //add a table into the table list\n",
        "{\n",
        "  if (tableCount < MAX_TABLES) \n",
        "  {\n",
        "    tables[tableCount] = table;\n",
        "    tableCount++;\n",
        "  }\n",
        "  else \n",
        "  {\n",
        "    cout << \"Cannot add table. Maximum table reached.\" << endl;\n",
        "  }\n",
        "}\n",
        "\n",
        "void TableManagement::removeTable(int index)    //remove a table from the table list\n",
        "{\n",
        "  if (index >= 0 && index < tableCount) \n",
        "  {\n",
        "    for (int i = index; i < tableCount - 1; i++) \n",
        "\t{\n",
        "      tables[i] = tables[i+1];\n",
        "    }\n",
        "    tableCount--;\n",
        "  }\n",
        "  else \n",
        "  {\n",
        "    cout << \"Invalid index. Cannot remove table.\" << endl;\n",
        "  }\n",
        "}\n",
        "\n",
        "void TableManagement::printTableList()    //print the table list which consists of the table number, capacity and availability \n",
        "{\n",
        "  cout << \"Table List:\" << endl;\n",
        "  for (int i = 0; i < tableCount; i++) \n",
        "  {\n",
        "    if(tables[i].getAvailable() == true)\n",
        "      cout << i+1 << \". Table \" << tables[i].getTableNumber() << \" ( \" \n",
        "      << tables[i].getCapacity() << \" person ) \" << \" Available : Yes\" << endl;\n",
        "    else\n",
        "      cout << i+1 << \". Table \" << tables[i].getTableNumber() << \" ( \" \n",
        "      << tables[i].getCapacity() << \" person ) \" << \" Available : No\" << endl;\n",
        "  }\n",
        "}\n"
      ],
      "metadata": {
        "colab": {
          "base_uri": "https://localhost:8080/"
        },
        "id": "EEDVjm2dtT3a",
        "outputId": "8fede7c5-6330-4949-c23a-da25fd294173"
      },
      "execution_count": null,
      "outputs": [
        {
          "output_type": "stream",
          "name": "stdout",
          "text": [
            "Overwriting Table.cpp\n"
          ]
        }
      ]
    },
    {
      "cell_type": "code",
      "source": [
        "%%writefile CUSTOMER.h\n",
        "\n",
        "#ifndef CUSTOMER_H\n",
        "#define CUSTOMER_H\n",
        "\n",
        "#include <iostream>\n",
        "#include \"ORDER.h\"\n",
        "#include \"RESERVATION.h\"\n",
        "\n",
        "using namespace std;\n",
        "//CUSTOMER CLASS\n",
        "class Customer\n",
        "{\n",
        "\tprivate:\n",
        "\t\tstring name;\t\t//customer name\n",
        "\t\tint phoneNum;\t\t//customer phone number\n",
        "\t\tOrder order1;\t\t//composition object of Order class meant for each Customer class instance/element listed in the array\n",
        "\t\tReservation reserve1;\t\t//composition object of Reservation class meant for each Customer class instance/element listed in the array\n",
        "\t\t\n",
        "\tpublic:\n",
        "\t\tCustomer();\t\t//default constructor \n",
        "\t\tCustomer(string, int);\t//Overloading constructor\n",
        "\t\tbool executeOrderAndReserve();\t//availability of table(s) to be reserved\n",
        "};\n",
        "\n",
        "#endif"
      ],
      "metadata": {
        "colab": {
          "base_uri": "https://localhost:8080/"
        },
        "id": "5t3a-U1K-Ct3",
        "outputId": "4b934cda-78b0-41c6-9e70-ef0325d695f0"
      },
      "execution_count": null,
      "outputs": [
        {
          "output_type": "stream",
          "name": "stdout",
          "text": [
            "Overwriting CUSTOMER.h\n"
          ]
        }
      ]
    },
    {
      "cell_type": "code",
      "source": [
        "%%writefile Customer.cpp\n",
        "\n",
        "#include <iostream>\n",
        "#include \"CUSTOMER.h\"\n",
        "\n",
        "using namespace std;\n",
        "\n",
        "Customer::Customer()  //default constructor\n",
        "{\n",
        "    name = \"\";\n",
        "    phoneNum = 0;\n",
        "}\n",
        "Customer::Customer(string name, int phoneNum)   //Overloading constructor\n",
        "{\n",
        "    this->name = name;\n",
        "    this->phoneNum = phoneNum;\n",
        "} \n",
        "bool Customer::executeOrderAndReserve()   //availability of table(s) to be reserved\n",
        "{\n",
        "    int reserveNo;\n",
        "    cout<<\"The following is the information of customer \"<<name<<endl;    //enter the customer's name\n",
        "    cout<<\"How many table you want to reserve?\"<<endl;\n",
        "    cin>>reserveNo;    //total number of table the customer wants to reserve\n",
        "    bool statusReserve = reserve1.setReserve(reserveNo);\n",
        "    if(statusReserve)\n",
        "    {\n",
        "        order1.setOrder();  \n",
        "        return true;\n",
        "    }\n",
        "    else \n",
        "    {\n",
        "        cout<<\"Reservation failed because there is no enough table for your reservation.\"<<endl;\n",
        "        return false;\n",
        "    }\n",
        "}"
      ],
      "metadata": {
        "colab": {
          "base_uri": "https://localhost:8080/"
        },
        "id": "ZBeQTWlg-GNv",
        "outputId": "2b88f291-edb2-4340-e37d-8f9d82249a9e"
      },
      "execution_count": null,
      "outputs": [
        {
          "output_type": "stream",
          "name": "stdout",
          "text": [
            "Overwriting Customer.cpp\n"
          ]
        }
      ]
    },
    {
      "cell_type": "code",
      "source": [
        "%%writefile RESERVATION.h\n",
        "\n",
        "#ifndef RESERVATION_H\n",
        "#define RESERVATION_H\n",
        "\n",
        "#include <iostream>\n",
        "using namespace std;\n",
        "\n",
        "class Reservation\n",
        "{\n",
        "\tprivate:\n",
        "\t\tstatic int noTableAvailable;\t\t//static variable consisting total number of tables available\n",
        "\t\tint noTableReserved;\t\t\t\t\t\t//total number of tables reserved\n",
        "\t\tint noReserved;\t\t\t\t\t\t\t\t\t//number of tables wanted to be reserved by each customer\n",
        "\tpublic:\n",
        "\t\tvoid setNoReserved(int);\t\t//set the number of tables wanted to be reserved by each customer\n",
        "\t\tbool setReserve(int);\t\t\t\t//check for availability of tables to be reserved\n",
        "};\n",
        "#endif"
      ],
      "metadata": {
        "colab": {
          "base_uri": "https://localhost:8080/"
        },
        "id": "qG_n9dVN-R5N",
        "outputId": "864d54e0-f370-4c34-9274-21574df290ab"
      },
      "execution_count": null,
      "outputs": [
        {
          "output_type": "stream",
          "name": "stdout",
          "text": [
            "Overwriting RESERVATION.h\n"
          ]
        }
      ]
    },
    {
      "cell_type": "code",
      "source": [
        "%%writefile Reservation.cpp\n",
        "\n",
        "#include <iostream>\n",
        "#include \"RESERVATION.h\"\n",
        "\n",
        "using namespace std;\n",
        "\n",
        "int Reservation::noTableAvailable = 10;     //Initialize the static variable consisting of total number of tables available to 10\n",
        "void Reservation::setNoReserved(int noReserved)     //set the total number of tables the customer wants to reserve\n",
        "{\n",
        "    this->noReserved = noReserved;    \n",
        "    noTableAvailable -= noReserved;   //update number of table available\n",
        "    noTableReserved += noReserved;    //update number of table reserved\n",
        "}\n",
        "bool Reservation::setReserve(int reserveNo)   //check for availability of tables to be reserved\n",
        "{\n",
        "    if(noTableAvailable==0){    //when no table available\n",
        "      return false;\n",
        "    }\n",
        "    while(reserveNo>noTableAvailable){    //when number of tables wanted to be reserved is more than number of tables available\n",
        "      cout<<\"The reservation failed\"<<endl;\n",
        "      cout<<\"Please enter a number that is less than \"<<reserveNo<<\". Tq~\"<<endl;\n",
        "      cin>>reserveNo;     //enter the number of tables wanted to be reserved again\n",
        "    }\n",
        "    noReserved = reserveNo;\n",
        "    noTableAvailable -= noReserved;\n",
        "    noTableReserved += noReserved;\n",
        "    cout<<\"The reservation is successful\"<<endl;\n",
        "    return true;\n",
        "}"
      ],
      "metadata": {
        "colab": {
          "base_uri": "https://localhost:8080/"
        },
        "id": "pmahhogD-Vl7",
        "outputId": "efac33a1-5ed4-49d6-b151-e7077bd082c4"
      },
      "execution_count": null,
      "outputs": [
        {
          "output_type": "stream",
          "name": "stdout",
          "text": [
            "Overwriting Reservation.cpp\n"
          ]
        }
      ]
    },
    {
      "cell_type": "code",
      "source": [
        "%%writefile ORDER.h\n",
        "\n",
        "#ifndef ORDER_H\n",
        "#define ORDER_H\n",
        "\n",
        "#include <iostream>\n",
        "using namespace std;\n",
        "\n",
        "class Order\n",
        "{\n",
        "\tprivate:\n",
        "    static float dailySales;\t\t//static variable consists of the daily sales\n",
        "\t\tfloat totalPay=0;\t\t\t\t\t//total payment by a customer\n",
        "\n",
        "\tpublic:\n",
        "\t\tvoid setOrder();\t\t//display menu and receive orders from the customer\n",
        "    friend void printSales(Order obj);\t\t//Declare a friend function of printSales\n",
        "};\n",
        "\n",
        "#endif"
      ],
      "metadata": {
        "colab": {
          "base_uri": "https://localhost:8080/"
        },
        "id": "cZ0QfHbyyLro",
        "outputId": "edef0af3-27a3-4f46-b9aa-376ab628140e"
      },
      "execution_count": null,
      "outputs": [
        {
          "output_type": "stream",
          "name": "stdout",
          "text": [
            "Overwriting ORDER.h\n"
          ]
        }
      ]
    },
    {
      "cell_type": "code",
      "source": [
        "%%writefile Order.cpp\n",
        "\n",
        "#include <iostream>\n",
        "#include \"ORDER.h\"\n",
        "\n",
        "using namespace std;\n",
        "\n",
        "void Order::setOrder()    \n",
        "{\n",
        "  //Print the menu\n",
        "  cout<<\"Menu  List:\"<<endl;\n",
        "  cout<<\"1. Omellete\"<<endl;\n",
        "  cout<<\"2. Sandwich\"<<endl;\n",
        "  cout<<\"3. Fried Rice\"<<endl;\n",
        "  cout<<\"4. Tomato Soup\"<<endl;\n",
        "  cout<<\"5. Pepsi Sode\"<<endl;\n",
        "  cout<<endl;\n",
        "\n",
        "  int noOfFood, codeItem, noOfItem;  //local variables\n",
        "  string foodList[5] = {\"Omellete\",\"Sandwich\",\"Fried Rice\",\"Tomato Soup\",\"Pepsi Soda\"};   //create an array consists of the food\n",
        "  float priceList[5] = {5.0, 7.0, 6.5, 12.0, 3.5};    //create an array consists of the price of food\n",
        "\n",
        "  cout<<\"How many types of food do you want to order? \"<<endl;\n",
        "  cin>>noOfFood;    //enter total types of food to be ordered \n",
        "  cout<<\"-------------------------------------------------------------------------------\"<<endl;\n",
        "  cout<<\"Please key in the food code to order:(E.g: 1 for Omellete, 2 for Sandwich, ...)\"<<endl;\n",
        "  cout<<\"-------------------------------------------------------------------------------\"<<endl;\n",
        "  for(int i=0; i<noOfFood; i++)\n",
        "  {\n",
        "    cout<<\"What food do you want?\"<<endl;\n",
        "    cin >> codeItem;    //enter the integer representing each type of food in the menu\n",
        "    while(codeItem <1 || codeItem >5)   //input validation\n",
        "    {\n",
        "      cout<<\"The code you entered is invalid.\"<<endl;\n",
        "      cout<<\"Enter the valid code: \";\n",
        "      cin>>codeItem;\n",
        "    }\n",
        "    cout<<\"How many amount do you want for \"<<foodList[codeItem-1]<<\"?\"<<endl;\n",
        "    cin>>noOfItem;    //enter the amount for the specific food \n",
        "    while(noOfItem<1)   //input validation\n",
        "    {\n",
        "      cout<<\"The smount that you entered is invalid.\"<<endl;\n",
        "      cout<<\"Please enter a valid amount: \"<<noOfItem;\n",
        "      cin>>noOfItem;\n",
        "    }\t\n",
        "    totalPay+=priceList[codeItem-1]*noOfItem;\t\t//total payment of the customer\t\n",
        "  }\n",
        "  cout<<\"The total sales is RM: \"<<totalPay<<endl;\n",
        "  dailySales += totalPay;   //update the daily sales\n",
        "}\n",
        "\n",
        "float Order::dailySales=0;    //To initialize the static variable so that its value wont restart in every loop\n",
        "void printSales(Order obj)    //friend function to display the daily sales\n",
        "{\n",
        "  cout<<\"The total daily sales for today is \"<<obj.dailySales<<endl;\n",
        "}\n"
      ],
      "metadata": {
        "colab": {
          "base_uri": "https://localhost:8080/"
        },
        "id": "1VajTbzYymgj",
        "outputId": "da04576e-ec8a-4d1e-a398-abf64ae5b935"
      },
      "execution_count": null,
      "outputs": [
        {
          "output_type": "stream",
          "name": "stdout",
          "text": [
            "Overwriting Order.cpp\n"
          ]
        }
      ]
    },
    {
      "cell_type": "code",
      "source": [
        "%%writefile RESTAURANT.h\n",
        "\n",
        "#ifndef RESTAURANT_H\n",
        "#define RESTAURANT_H\n",
        "\n",
        "#include <iostream>\n",
        "#include \"ORDER.h\"\n",
        "#include \"RESERVATION.h\"\n",
        "#include \"MENU.h\"\n",
        "#include \"STAFF.h\"\n",
        "#include \"TABLE.h\"\n",
        "#include \"CUSTOMER.h\"\n",
        "using namespace std;\n",
        "\n",
        "class Restaurant\n",
        "{\n",
        "\tprivate:\n",
        "\t\tCustomer *customer;\t\t\t\t\t\t\t//\n",
        "    TableManagement table;\t\t\t\t\t\n",
        "    StaffManagement staff;\n",
        "\t\tMenu menu;\n",
        "\t\n",
        "\tpublic:\n",
        "\t\tRestaurant();\t\t\t\t\t\t\t\t\t\t\t//Default constructor\n",
        "\t\tvoid executeCustomerClass();\t\t\t\n",
        "    void executeTableClass();\n",
        "    void executeStaffClass();\n",
        "    void executeMenuClass();\n",
        "\t\t~Restaurant();\t\t\t\t\t\t\t\t\t\t//Destructor\n",
        "};\n",
        "\n",
        "#endif"
      ],
      "metadata": {
        "colab": {
          "base_uri": "https://localhost:8080/"
        },
        "id": "lc02zUFhwTd8",
        "outputId": "31a86611-32ec-44d1-e61b-a0dd573c5ca0"
      },
      "execution_count": null,
      "outputs": [
        {
          "output_type": "stream",
          "name": "stdout",
          "text": [
            "Overwriting RESTAURANT.h\n"
          ]
        }
      ]
    },
    {
      "cell_type": "code",
      "source": [
        "%%writefile Restaurant.cpp\n",
        "\n",
        "#include <iostream>\n",
        "#include <fstream>\n",
        "#include \"RESTAURANT.h\"\n",
        "\n",
        "Restaurant::Restaurant()\t\t//default constructor \n",
        "{\n",
        "  //Lets say we have 5 customers/array of objects\n",
        "  customer = new Customer[5];\n",
        "}\n",
        "\n",
        "void Restaurant::executeTableClass()\t\t// Executing the Table Management\n",
        "{\n",
        "  ifstream inFile;\n",
        "\tint tableNumber;\n",
        "\tint capacity;\n",
        "\tbool available;\n",
        "\n",
        "\tinFile.open(\"Table.txt\");\t\t\t\t// Opening a file named \"Table.txt\" for input\n",
        "\n",
        "\tif (inFile.fail())\t\t\t\t\t\t\t// Checking if the file exists, and if it does, reading table data from it\n",
        "\t\tcout << \"The file doesn't exist.\" << endl;\n",
        "\telse\n",
        "\t{\n",
        "\t\tfor (int i = 0; i < 10; i++)\n",
        "\t\t{\n",
        "\t\t\tinFile >> tableNumber;\n",
        "\t\t\ttable.setTableNumber(tableNumber);\n",
        "\t\t\tinFile >> capacity;\n",
        "\t\t\ttable.setCapacity(capacity);\n",
        "\t\t\tinFile >> available;\n",
        "\t\t\ttable.setAvailable(available);\n",
        "\t\t\ttable.addTable(table);\n",
        "\t\t}\n",
        "\t}\n",
        "\tinFile.close();\t\t\t\t// Closing the input file\n",
        "\t\n",
        "  // Displaying a heading for the Table Management section of the program\n",
        "\tcout<<\"\\n-----------------------------\"<<endl;\t\t\n",
        "  cout<<\"\\tTable Management\"<<endl;\t\t\t\t\t\t\t\t\t\n",
        "  cout<<\"-----------------------------\"<<endl;\n",
        "  table.printTableList();\t\t\t\t// Printing the list of tables that have been read from the file\n",
        "\n",
        "  string wishAdjust;\n",
        "\n",
        "  cout << \"\\nDo you wish to add/delete table? (Yes/No)\" << endl;\t\t  // Prompting the user to add or delete a table\n",
        "  cin >> wishAdjust;\n",
        "  if (wishAdjust == \"Yes\")\t\t// If the user wants to add or delete a table, prompting for the index of the table to be modified\n",
        "  {\n",
        "    cout << \"Give the index number of table that you wish \";\t\n",
        "    table.printTableList();\n",
        "  }\n",
        "}\n",
        "\n",
        "void Restaurant::executeStaffClass()\t\t//Executing the Staff Management\n",
        "{\n",
        "  ifstream inFile;\n",
        "  string sname;\n",
        "\tstring position;\n",
        "\tdouble salary;\n",
        "\n",
        "\tinFile.open(\"Staff.txt\");\t\t// Opening a file named \"Staff.txt\" for input\n",
        "\n",
        "\tif (inFile.fail())\t\t\t// Checking if the file exists, and if it does, reading staff data from it\n",
        "\t\tcout << \"The file doesn't exist.\" << endl;\n",
        "\telse\n",
        "\t{\n",
        "\t\tfor (int i = 0; i < 5; i++)\n",
        "\t\t{\n",
        "\t\t\tinFile >> sname;\n",
        "\t\t\tstaff.setName(sname);\n",
        "\t\t\tinFile >> position;\n",
        "\t\t\tstaff.setPosition(position);\n",
        "\t\t\tinFile >> salary;\n",
        "\t\t\tstaff.setSalary(salary);\n",
        "\t\t\tstaff.addStaff(staff);\n",
        "\t\t}\n",
        "\t}\n",
        "\tinFile.close();\t\t\t// Closing the input file\n",
        "\n",
        "\t// Displaying a heading for the Staff Management section of the program\n",
        "  cout<<\"\\n-----------------------------\"<<endl;\n",
        "  cout<<\"\\tStaff Management\"<<endl;\n",
        "  cout<<\"-----------------------------\"<<endl;\n",
        "\tstaff.printStaffList();\t\t\t\t\t // Printing the list of staff members that have been read from the file\n",
        "}\n",
        "\n",
        "void Restaurant::executeMenuClass()\t\t//Executing the Menu Management\n",
        "{\n",
        "  ifstream inFile;\n",
        "\tstring fname;\n",
        "\tdouble price;\n",
        "\n",
        "\tinFile.open(\"Menu.txt\");\t\t// Opening a file named \"Menu.txt\" for input\n",
        "\n",
        "\tif (inFile.fail())\t\t\t // Checking if the file exists, and if it does, reading menu item data from it\n",
        "  if (inFile.fail())\n",
        "\t\tcout << \"The file doesn't exist.\" << endl;\n",
        "\telse\n",
        "\t{\n",
        "\t\tfor (int i = 0; i < 5; i++)\n",
        "\t\t{\n",
        "\t\t\tinFile >> fname;\n",
        "\t\t\tmenu.setName(fname);\n",
        "\t\t\tinFile >> price;\n",
        "\t\t\tmenu.setPrice(price);\n",
        "\t\t\tmenu.addMenuItem(menu);\n",
        "\t\t}\n",
        "\t}\n",
        "\tinFile.close();\t\t// Closing the input file\n",
        "\n",
        "\t// Displaying a heading for the Menu Management section of the program\n",
        "  cout<<\"\\n-----------------------------\"<<endl;\n",
        "  cout<<\"\\tMenu Management\"<<endl;\n",
        "  cout<<\"-----------------------------\"<<endl;\n",
        "\tmenu.printMenu();\n",
        "}\n",
        "\n",
        "void Restaurant::executeCustomerClass()\t\t//Executing the Customer, Order, and Reservation Management\n",
        "{\n",
        "  string customerName;\n",
        "  int phoneNum;\n",
        "  bool loopRun=true;\n",
        "  for(int i=0; i<5; i++)\t\t//for loop to iterate through each customer\n",
        "  {\n",
        "    cout<<\"\\n------------------------------------------\"<<endl;\n",
        "    cout<<\"\\tNow is Customer \"<<(i+1)<<endl;\t\t\t\t\t//print the current customer number\n",
        "    cout<<\"------------------------------------------\"<<endl;\n",
        "    cout<<\"\\nWhat is your name: \";\n",
        "    getline(cin,customerName);\t\t\t//read the customer's name from the input stream\n",
        "    cout<<\"What is your phone number: \";\n",
        "    cin>>phoneNum;\t\t\t\t //read the customer's phone number from the input stream\n",
        "    customer[i] = Customer(customerName,phoneNum);\t\t//create a new Customer object with the provided name and phone number and store it in the array of customers\n",
        "    loopRun = customer[i].executeOrderAndReserve();\t\t//call the executeOrderAndReserve() method of the current customer object and store the result in loopRun\n",
        "    cin.ignore();\t\t\t\t//Ignore the space before the getline function\n",
        "    if(loopRun==false)\t\t//if loopRun is false, break out of the loop\n",
        "    {\n",
        "      break;\n",
        "    }\n",
        "  }\n",
        "}\n",
        "Restaurant::~Restaurant()\t\t//Destructor\n",
        "{\n",
        "  delete[] customer;\n",
        "}\t\n"
      ],
      "metadata": {
        "colab": {
          "base_uri": "https://localhost:8080/"
        },
        "id": "5y9pOONXwqPL",
        "outputId": "e79c7e48-669d-41a9-d209-6704484e070d"
      },
      "execution_count": null,
      "outputs": [
        {
          "output_type": "stream",
          "name": "stdout",
          "text": [
            "Overwriting Restaurant.cpp\n"
          ]
        }
      ]
    },
    {
      "cell_type": "code",
      "source": [
        "%%writefile main.cpp\n",
        "\n",
        "#include <iostream>     // Include the standard input/output library\n",
        "#include <fstream>      // Include the file stream library\n",
        "#include \"MENU.h\"       // Include the menu class header file\n",
        "#include \"STAFF.h\"      // Include the staff class header file\n",
        "#include \"TABLE.h\"      // Include the table class header file\n",
        "#include \"CUSTOMER.h\"   // Include the customer class header file\n",
        "#include \"ORDER.h\"      // Include the order class header file\n",
        "#include \"RESERVATION.h\"// Include the reservation class header file\n",
        "#include \"RESTAURANT.h\" // Include the restaurant class header file\n",
        "\n",
        "using namespace std;    \n",
        "\n",
        "int main()              \n",
        "{\n",
        "    Restaurant restaurant1;             // Create an instance of the Restaurant class named restaurant1\n",
        "    restaurant1.executeTableClass();    // Execute the table management function for the restaurant\n",
        "    restaurant1.executeStaffClass();    // Execute the staff management function for the restaurant\n",
        "    restaurant1.executeMenuClass();     // Execute the menu management function for the restaurant\n",
        "    restaurant1.executeCustomerClass(); // Execute the customer, order, and reservation management function for the restaurant\n",
        "\n",
        "    //REPORT\n",
        "    cout<<\"\\nReport:\"<<endl;       // Output a message indicating the start of the report section\n",
        "    Order obj;                      // Create an instance of the Order class named obj\n",
        "    printSales(obj);                // Call the printSales function to generate the report using the order object\n",
        "\n",
        "    return 0;                       // Return 0 to indicate successful program completion\n",
        "}\n",
        "\n"
      ],
      "metadata": {
        "colab": {
          "base_uri": "https://localhost:8080/"
        },
        "id": "nuTpwRuXtpYJ",
        "outputId": "0faf07c2-25c1-4db3-8feb-c23a69d6d866"
      },
      "execution_count": null,
      "outputs": [
        {
          "output_type": "stream",
          "name": "stdout",
          "text": [
            "Overwriting main.cpp\n"
          ]
        }
      ]
    },
    {
      "cell_type": "code",
      "source": [
        "%%shell\n",
        "\n",
        "g++ MENU.h Menu.cpp STAFF.h Staff.cpp TABLE.h Table.cpp CUSTOMER.h Customer.cpp ORDER.h Order.cpp RESERVATION.h Reservation.cpp RESTAURANT.h Restaurant.cpp main.cpp -o restaurant.elf\n",
        "./restaurant.elf"
      ],
      "metadata": {
        "id": "KxriFwk3-Ttb",
        "colab": {
          "base_uri": "https://localhost:8080/"
        },
        "outputId": "3bd13363-a50e-42c5-b93d-70028c99a35b"
      },
      "execution_count": null,
      "outputs": [
        {
          "output_type": "stream",
          "name": "stdout",
          "text": [
            "\n",
            "-----------------------------\n",
            "\tTable Management\n",
            "-----------------------------\n",
            "Table List:\n",
            "1. Table 1 ( 1 person )  Available : Yes\n",
            "2. Table 2 ( 1 person )  Available : Yes\n",
            "3. Table 3 ( 1 person )  Available : Yes\n",
            "4. Table 4 ( 2 person )  Available : Yes\n",
            "5. Table 5 ( 2 person )  Available : Yes\n",
            "6. Table 6 ( 2 person )  Available : Yes\n",
            "7. Table 7 ( 5 person )  Available : Yes\n",
            "8. Table 8 ( 5 person )  Available : Yes\n",
            "9. Table 9 ( 10 person )  Available : Yes\n",
            "10. Table 10 ( 10 person )  Available : Yes\n",
            "\n",
            "Do you wish to add/delete table? (Yes/No)\n"
          ]
        }
      ]
    },
    {
      "cell_type": "markdown",
      "source": [
        "Add any other text or code cells that you need to sucessfully build and document your program. Please refer to the Hackathon instructions and grading rubric for more details."
      ],
      "metadata": {
        "id": "9uZJB0LsFMnb"
      }
    }
  ]
}